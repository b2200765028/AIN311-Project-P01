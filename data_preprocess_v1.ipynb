{
 "cells": [
  {
   "cell_type": "code",
   "execution_count": 145,
   "id": "6f8d8aa5",
   "metadata": {},
   "outputs": [],
   "source": [
    "import pandas as pd\n",
    "import numpy as np\n",
    "import matplotlib.pyplot as plt\n",
    "import seaborn as sns\n",
    "import tensorflow as tf\n",
    "from tqdm import tqdm\n",
    "from datasets import list_datasets, load_dataset\n",
    "from pprint import pprint\n",
    "import random\n",
    "import keras\n",
    "import os"
   ]
  },
  {
   "cell_type": "code",
   "execution_count": 13,
   "id": "64e89eaa",
   "metadata": {},
   "outputs": [
    {
     "name": "stderr",
     "output_type": "stream",
     "text": [
      "Found cached dataset squad (C:/Users/user/.cache/huggingface/datasets/squad/plain_text/1.0.0/d6ec3ceb99ca480ce37cdd35555d6cb2511d223b9150cce08a837ef62ffea453)\n"
     ]
    },
    {
     "data": {
      "application/vnd.jupyter.widget-view+json": {
       "model_id": "92f65ba82821433b818beee290044686",
       "version_major": 2,
       "version_minor": 0
      },
      "text/plain": [
       "  0%|          | 0/2 [00:00<?, ?it/s]"
      ]
     },
     "metadata": {},
     "output_type": "display_data"
    }
   ],
   "source": [
    "dataset = load_dataset('squad') ## downloading squad dataset"
   ]
  },
  {
   "cell_type": "code",
   "execution_count": 14,
   "id": "e7d26853",
   "metadata": {},
   "outputs": [
    {
     "data": {
      "text/plain": [
       "DatasetDict({\n",
       "    train: Dataset({\n",
       "        features: ['id', 'title', 'context', 'question', 'answers'],\n",
       "        num_rows: 87599\n",
       "    })\n",
       "    validation: Dataset({\n",
       "        features: ['id', 'title', 'context', 'question', 'answers'],\n",
       "        num_rows: 10570\n",
       "    })\n",
       "})"
      ]
     },
     "execution_count": 14,
     "metadata": {},
     "output_type": "execute_result"
    }
   ],
   "source": [
    "dataset"
   ]
  },
  {
   "cell_type": "code",
   "execution_count": 15,
   "id": "6a653459",
   "metadata": {},
   "outputs": [],
   "source": [
    "train_squad = pd.DataFrame(dataset[\"train\"])\n",
    "test_squad = pd.DataFrame(dataset[\"validation\"])"
   ]
  },
  {
   "cell_type": "code",
   "execution_count": 16,
   "id": "9d8e6846",
   "metadata": {},
   "outputs": [
    {
     "name": "stdout",
     "output_type": "stream",
     "text": [
      "<class 'pandas.core.frame.DataFrame'>\n",
      "RangeIndex: 87599 entries, 0 to 87598\n",
      "Data columns (total 5 columns):\n",
      " #   Column    Non-Null Count  Dtype \n",
      "---  ------    --------------  ----- \n",
      " 0   id        87599 non-null  object\n",
      " 1   title     87599 non-null  object\n",
      " 2   context   87599 non-null  object\n",
      " 3   question  87599 non-null  object\n",
      " 4   answers   87599 non-null  object\n",
      "dtypes: object(5)\n",
      "memory usage: 3.3+ MB\n"
     ]
    }
   ],
   "source": [
    "train_squad.info()"
   ]
  },
  {
   "cell_type": "code",
   "execution_count": 17,
   "id": "aca8efa9",
   "metadata": {},
   "outputs": [
    {
     "data": {
      "text/html": [
       "<div>\n",
       "<style scoped>\n",
       "    .dataframe tbody tr th:only-of-type {\n",
       "        vertical-align: middle;\n",
       "    }\n",
       "\n",
       "    .dataframe tbody tr th {\n",
       "        vertical-align: top;\n",
       "    }\n",
       "\n",
       "    .dataframe thead th {\n",
       "        text-align: right;\n",
       "    }\n",
       "</style>\n",
       "<table border=\"1\" class=\"dataframe\">\n",
       "  <thead>\n",
       "    <tr style=\"text-align: right;\">\n",
       "      <th></th>\n",
       "      <th>id</th>\n",
       "      <th>title</th>\n",
       "      <th>context</th>\n",
       "      <th>question</th>\n",
       "      <th>answers</th>\n",
       "    </tr>\n",
       "  </thead>\n",
       "  <tbody>\n",
       "    <tr>\n",
       "      <th>0</th>\n",
       "      <td>5733be284776f41900661182</td>\n",
       "      <td>University_of_Notre_Dame</td>\n",
       "      <td>Architecturally, the school has a Catholic cha...</td>\n",
       "      <td>To whom did the Virgin Mary allegedly appear i...</td>\n",
       "      <td>{'text': ['Saint Bernadette Soubirous'], 'answ...</td>\n",
       "    </tr>\n",
       "    <tr>\n",
       "      <th>1</th>\n",
       "      <td>5733be284776f4190066117f</td>\n",
       "      <td>University_of_Notre_Dame</td>\n",
       "      <td>Architecturally, the school has a Catholic cha...</td>\n",
       "      <td>What is in front of the Notre Dame Main Building?</td>\n",
       "      <td>{'text': ['a copper statue of Christ'], 'answe...</td>\n",
       "    </tr>\n",
       "    <tr>\n",
       "      <th>2</th>\n",
       "      <td>5733be284776f41900661180</td>\n",
       "      <td>University_of_Notre_Dame</td>\n",
       "      <td>Architecturally, the school has a Catholic cha...</td>\n",
       "      <td>The Basilica of the Sacred heart at Notre Dame...</td>\n",
       "      <td>{'text': ['the Main Building'], 'answer_start'...</td>\n",
       "    </tr>\n",
       "    <tr>\n",
       "      <th>3</th>\n",
       "      <td>5733be284776f41900661181</td>\n",
       "      <td>University_of_Notre_Dame</td>\n",
       "      <td>Architecturally, the school has a Catholic cha...</td>\n",
       "      <td>What is the Grotto at Notre Dame?</td>\n",
       "      <td>{'text': ['a Marian place of prayer and reflec...</td>\n",
       "    </tr>\n",
       "    <tr>\n",
       "      <th>4</th>\n",
       "      <td>5733be284776f4190066117e</td>\n",
       "      <td>University_of_Notre_Dame</td>\n",
       "      <td>Architecturally, the school has a Catholic cha...</td>\n",
       "      <td>What sits on top of the Main Building at Notre...</td>\n",
       "      <td>{'text': ['a golden statue of the Virgin Mary'...</td>\n",
       "    </tr>\n",
       "  </tbody>\n",
       "</table>\n",
       "</div>"
      ],
      "text/plain": [
       "                         id                     title  \\\n",
       "0  5733be284776f41900661182  University_of_Notre_Dame   \n",
       "1  5733be284776f4190066117f  University_of_Notre_Dame   \n",
       "2  5733be284776f41900661180  University_of_Notre_Dame   \n",
       "3  5733be284776f41900661181  University_of_Notre_Dame   \n",
       "4  5733be284776f4190066117e  University_of_Notre_Dame   \n",
       "\n",
       "                                             context  \\\n",
       "0  Architecturally, the school has a Catholic cha...   \n",
       "1  Architecturally, the school has a Catholic cha...   \n",
       "2  Architecturally, the school has a Catholic cha...   \n",
       "3  Architecturally, the school has a Catholic cha...   \n",
       "4  Architecturally, the school has a Catholic cha...   \n",
       "\n",
       "                                            question  \\\n",
       "0  To whom did the Virgin Mary allegedly appear i...   \n",
       "1  What is in front of the Notre Dame Main Building?   \n",
       "2  The Basilica of the Sacred heart at Notre Dame...   \n",
       "3                  What is the Grotto at Notre Dame?   \n",
       "4  What sits on top of the Main Building at Notre...   \n",
       "\n",
       "                                             answers  \n",
       "0  {'text': ['Saint Bernadette Soubirous'], 'answ...  \n",
       "1  {'text': ['a copper statue of Christ'], 'answe...  \n",
       "2  {'text': ['the Main Building'], 'answer_start'...  \n",
       "3  {'text': ['a Marian place of prayer and reflec...  \n",
       "4  {'text': ['a golden statue of the Virgin Mary'...  "
      ]
     },
     "execution_count": 17,
     "metadata": {},
     "output_type": "execute_result"
    }
   ],
   "source": [
    "train_squad.head()\n",
    "## we dont need id gonna drop it"
   ]
  },
  {
   "cell_type": "code",
   "execution_count": 18,
   "id": "e3e25c00",
   "metadata": {},
   "outputs": [],
   "source": [
    "train_squad.drop(\"id\",axis=1,inplace=True)\n",
    "test_squad.drop(\"id\",axis=1,inplace=True)"
   ]
  },
  {
   "cell_type": "code",
   "execution_count": 19,
   "id": "9d27da01",
   "metadata": {},
   "outputs": [
    {
     "data": {
      "text/plain": [
       "New_York_City            817\n",
       "American_Idol            802\n",
       "Beyoncé                  758\n",
       "Frédéric_Chopin          697\n",
       "Queen_Victoria           680\n",
       "                        ... \n",
       "Great_Plains              47\n",
       "Tristan_da_Cunha          44\n",
       "Pitch_(music)             36\n",
       "Matter                    24\n",
       "Myocardial_infarction     22\n",
       "Name: title, Length: 442, dtype: int64"
      ]
     },
     "execution_count": 19,
     "metadata": {},
     "output_type": "execute_result"
    }
   ],
   "source": [
    "train_squad[\"title\"].value_counts()"
   ]
  },
  {
   "cell_type": "code",
   "execution_count": 20,
   "id": "41688f63",
   "metadata": {},
   "outputs": [
    {
     "data": {
      "text/plain": [
       "(120, 10)"
      ]
     },
     "execution_count": 20,
     "metadata": {},
     "output_type": "execute_result"
    }
   ],
   "source": [
    "avg_words_context = round(sum([len(i.split()) for i in train_squad[\"context\"]])/len(train_squad))\n",
    "avg_words_question = round(sum([len(i.split()) for i in train_squad[\"question\"]])/len(train_squad))\n",
    "avg_words_context,avg_words_question"
   ]
  },
  {
   "cell_type": "code",
   "execution_count": 21,
   "id": "ddc56063",
   "metadata": {},
   "outputs": [
    {
     "data": {
      "text/plain": [
       "(653, 40)"
      ]
     },
     "execution_count": 21,
     "metadata": {},
     "output_type": "execute_result"
    }
   ],
   "source": [
    "max_words_context = (max([len(i.split()) for i in train_squad[\"context\"]]))\n",
    "max_words_question = (max([len(i.split()) for i in train_squad[\"question\"]]))\n",
    "max_words_context,max_words_question"
   ]
  },
  {
   "cell_type": "code",
   "execution_count": 22,
   "id": "bacae779",
   "metadata": {},
   "outputs": [
    {
     "data": {
      "text/plain": [
       "146.65"
      ]
     },
     "execution_count": 22,
     "metadata": {},
     "output_type": "execute_result"
    }
   ],
   "source": [
    "(653*0.1 + 120*1.9) / 2"
   ]
  },
  {
   "cell_type": "markdown",
   "id": "aea34046",
   "metadata": {},
   "source": [
    "## Tokenization"
   ]
  },
  {
   "cell_type": "code",
   "execution_count": 83,
   "id": "b10f5434",
   "metadata": {},
   "outputs": [],
   "source": [
    "encoder_text = train_squad[\"context\"][:4000]\n",
    "decoder_text = train_squad[\"question\"][:4000]"
   ]
  },
  {
   "cell_type": "code",
   "execution_count": 84,
   "id": "ce802b5d",
   "metadata": {},
   "outputs": [],
   "source": [
    "from keras.preprocessing.text import Tokenizer\n",
    "\n",
    "def token_fit(texts):\n",
    "    tokenizer = Tokenizer()\n",
    "    tokenizer.fit_on_texts(texts)\n",
    "    dictionary = tokenizer.word_index\n",
    "    \n",
    "    word2i ={k:v for (k,v) in dictionary.items()}\n",
    "    i2word = {v:k for (k,v) in word2i.items()}\n",
    "    \n",
    "    return tokenizer, word2i,i2word\n"
   ]
  },
  {
   "cell_type": "code",
   "execution_count": 85,
   "id": "6a4370b4",
   "metadata": {},
   "outputs": [],
   "source": [
    "tokenizer,word2i,i2word = token_fit(encoder_text+decoder_text)"
   ]
  },
  {
   "cell_type": "code",
   "execution_count": 86,
   "id": "9ea6232d",
   "metadata": {},
   "outputs": [
    {
     "name": "stdout",
     "output_type": "stream",
     "text": [
      "Most occured 10 words in vocab\n"
     ]
    },
    {
     "data": {
      "text/plain": [
       "['the', 'of', 'in', 'and', 'to', 'a', 'was', 'for', 'on', 'as']"
      ]
     },
     "execution_count": 86,
     "metadata": {},
     "output_type": "execute_result"
    }
   ],
   "source": [
    "print(\"Most occured 10 words in vocab\")\n",
    "sorted(tokenizer.word_counts,key=tokenizer.word_counts.get,reverse=True)[:10]"
   ]
  },
  {
   "cell_type": "code",
   "execution_count": 87,
   "id": "893bd550",
   "metadata": {},
   "outputs": [
    {
     "data": {
      "text/plain": [
       "12113"
      ]
     },
     "execution_count": 87,
     "metadata": {},
     "output_type": "execute_result"
    }
   ],
   "source": [
    "vocab_size= len(word2i)\n",
    "vocab_size"
   ]
  },
  {
   "cell_type": "code",
   "execution_count": 88,
   "id": "bbb489b5",
   "metadata": {},
   "outputs": [],
   "source": [
    "def text2sequence(context,question,tokenizer):\n",
    "    encoder_seq = tokenizer.texts_to_sequences(context)\n",
    "    decoder_seq = tokenizer.texts_to_sequences(question)\n",
    "    \n",
    "    return encoder_seq,decoder_seq"
   ]
  },
  {
   "cell_type": "code",
   "execution_count": 89,
   "id": "8c2ccd68",
   "metadata": {},
   "outputs": [],
   "source": [
    "encoder_seq,decoder_seq = text2sequence(encoder_text,decoder_text,tokenizer)"
   ]
  },
  {
   "cell_type": "code",
   "execution_count": 100,
   "id": "299b0858",
   "metadata": {},
   "outputs": [
    {
     "name": "stdout",
     "output_type": "stream",
     "text": [
      "Original Text \n",
      "-----------\n",
      " Architecturally, the school has a Catholic character. Atop the Main Building's gold dome is a golden statue of the Virgin Mary. Immediately in front of the Main Building and facing it, is a copper statue of Christ with arms upraised with the legend \"Venite Ad Me Omnes\". Next to the Main Building is the Basilica of the Sacred Heart. Immediately behind the basilica is the Grotto, a Marian place of prayer and reflection. It is a replica of the grotto at Lourdes, France where the Virgin Mary reputedly appeared to Saint Bernadette Soubirous in 1858. At the end of the main drive (and in a direct line that connects through 3 statues and the Gold Dome), is a simple, modern stone statue of Mary.\n",
      "Turned into sequences \n",
      "-----------\n",
      " [8672, 1, 97, 35, 6, 556, 658, 779, 1, 274, 8673, 1148, 2376, 16, 6, 1170, 2451, 2, 1, 3917, 1400, 1926, 3, 3329, 2, 1, 274, 258, 4, 3454, 23, 16, 6, 5041, 2451, 2, 5778, 12, 5779, 8674, 12, 1, 702, 8675, 8676, 739, 8677, 599, 5, 1, 274, 258, 16, 1, 2531, 2, 1, 4684, 2076, 1926, 907, 1, 2531, 16, 1, 2618, 6, 8678, 351, 2, 4117, 4, 8679, 23, 16, 6, 5780, 2, 1, 2618, 14, 3739, 606, 70, 1, 3917, 1400, 8680, 480, 5, 2532, 8681, 8682, 3, 7988, 14, 1, 327, 2, 1, 274, 1548, 4, 3, 6, 1081, 233, 11, 6389, 206, 158, 4118, 4, 1, 1148, 2376, 16, 6, 2182, 499, 2131, 2451, 2, 1400]\n"
     ]
    }
   ],
   "source": [
    "print(\"Original Text \\n-----------\\n\",encoder_text[0])\n",
    "print(\"Turned into sequences \\n-----------\\n\",encoder_seq[0])"
   ]
  },
  {
   "cell_type": "code",
   "execution_count": 115,
   "id": "eeb4df62",
   "metadata": {},
   "outputs": [],
   "source": [
    "\n",
    "max_len_enc = 0\n",
    "max_len_dec = 0\n",
    "\n",
    "for enc,dec in zip(encoder_seq,decoder_seq):\n",
    "    if len(enc) > max_len_enc:\n",
    "        max_len_enc = len(enc)\n",
    "    if len(dec) > max_len_dec:\n",
    "        max_len_dec= len(dec)"
   ]
  },
  {
   "cell_type": "code",
   "execution_count": 118,
   "id": "8ef37fa3",
   "metadata": {},
   "outputs": [
    {
     "data": {
      "text/plain": [
       "(518, 29)"
      ]
     },
     "execution_count": 118,
     "metadata": {},
     "output_type": "execute_result"
    }
   ],
   "source": [
    "max_len_enc,max_len_dec"
   ]
  },
  {
   "cell_type": "code",
   "execution_count": 131,
   "id": "70a96a55",
   "metadata": {},
   "outputs": [],
   "source": [
    "from keras.utils import pad_sequences\n",
    "encoder_data = pad_sequences(encoder_seq,maxlen=max_len_enc,dtype=\"int32\",padding=\"post\",truncating=\"post\")\n",
    "decoder_data = pad_sequences(decoder_seq,maxlen=max_len_dec,dtype=\"int32\",padding=\"post\",truncating=\"post\")"
   ]
  },
  {
   "cell_type": "markdown",
   "id": "452db2db",
   "metadata": {},
   "source": [
    "#### as we can see it added extra zeros to make them same size(we selected post to add zeros after)"
   ]
  },
  {
   "cell_type": "code",
   "execution_count": 139,
   "id": "59c75656",
   "metadata": {},
   "outputs": [
    {
     "data": {
      "text/plain": [
       "array([  12,    1,  702, 8675, 8676,  739, 8677,  599,    5,    1,  274,\n",
       "        258,   16,    1, 2531,    2,    1, 4684, 2076, 1926,  907,    1,\n",
       "       2531,   16,    1, 2618,    6, 8678,  351,    2, 4117,    4, 8679,\n",
       "         23,   16,    6, 5780,    2,    1, 2618,   14, 3739,  606,   70,\n",
       "          1, 3917, 1400, 8680,  480,    5, 2532, 8681, 8682,    3, 7988,\n",
       "         14,    1,  327,    2,    1,  274, 1548,    4,    3,    6, 1081,\n",
       "        233,   11, 6389,  206,  158, 4118,    4,    1, 1148, 2376,   16,\n",
       "          6, 2182,  499, 2131, 2451,    2, 1400,    0,    0,    0,    0,\n",
       "          0,    0,    0,    0,    0,    0,    0,    0,    0,    0,    0,\n",
       "          0,    0,    0,    0,    0,    0,    0,    0,    0,    0,    0,\n",
       "          0,    0,    0,    0,    0,    0,    0,    0,    0,    0,    0,\n",
       "          0,    0,    0,    0,    0,    0,    0,    0,    0,    0,    0,\n",
       "          0,    0,    0,    0,    0,    0,    0,    0,    0,    0,    0,\n",
       "          0,    0,    0,    0,    0,    0,    0,    0,    0,    0,    0,\n",
       "          0,    0,    0,    0,    0,    0])"
      ]
     },
     "execution_count": 139,
     "metadata": {},
     "output_type": "execute_result"
    }
   ],
   "source": [
    "encoder_data[0][40:200]"
   ]
  }
 ],
 "metadata": {
  "kernelspec": {
   "display_name": "Python 3 (ipykernel)",
   "language": "python",
   "name": "python3"
  },
  "language_info": {
   "codemirror_mode": {
    "name": "ipython",
    "version": 3
   },
   "file_extension": ".py",
   "mimetype": "text/x-python",
   "name": "python",
   "nbconvert_exporter": "python",
   "pygments_lexer": "ipython3",
   "version": "3.9.12"
  }
 },
 "nbformat": 4,
 "nbformat_minor": 5
}
